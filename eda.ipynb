{
 "cells": [
  {
   "cell_type": "markdown",
   "metadata": {},
   "source": [
    "## Questions\n",
    "\n",
    "- Do the times vary by coffee?\n",
    "- Did I get faster at grinding?\n",
    "- Did I get better at eyeballing the pours?\n",
    "- Total time vs. unaccounted for time"
   ]
  },
  {
   "cell_type": "code",
   "execution_count": null,
   "metadata": {},
   "outputs": [],
   "source": [
    "import pandas as pd\n",
    "import numpy as np\n",
    "\n",
    "import seaborn as sns\n",
    "import matplotlib.pyplot as plt\n",
    "import calplot\n",
    "\n",
    "%run ./helpers.ipynb\n",
    "\n",
    "df = (\n",
    "    pd.read_csv('data/coffee.csv')\n",
    "    .drop(labels=['Unnamed: 10', 'Unnamed: 11'], axis=1)\n",
    ")\n",
    "\n",
    "df.replace('na', np.NaN, inplace=True)\n",
    "\n",
    "df['date'] = df['date'].apply(pd.to_datetime)\n",
    "\n",
    "df['cTime'] = df['cTime'].apply(timeToSec)\n",
    "df['gTime'] = df['gTime'].apply(timeToSec)\n",
    "df['bTime'] = df['bTime'].apply(timeToSec)\n",
    "\n",
    "df['startTime'] = df['startTime'].apply(getTime)\n",
    "df['endTime'] = df['endTime'].apply(getTime)\n",
    "\n",
    "df['count'] = df['count'].apply(toFloat)\n",
    "df['over'] = df['over'].apply(toFloat)\n",
    "\n",
    "df['duration'] = tryTime((df.endTime - df.startTime).values)\n",
    "df['duration'] = df['duration'].dt.components.minutes"
   ]
  },
  {
   "cell_type": "code",
   "execution_count": null,
   "metadata": {},
   "outputs": [],
   "source": [
    "calplot.calplot(df['date'].value_counts());"
   ]
  },
  {
   "cell_type": "code",
   "execution_count": null,
   "metadata": {},
   "outputs": [],
   "source": [
    "df['coffee'].value_counts().plot(kind='barh');"
   ]
  },
  {
   "cell_type": "code",
   "execution_count": null,
   "metadata": {
    "jupyter": {
     "source_hidden": true
    }
   },
   "outputs": [],
   "source": [
    "(\n",
    "    df\n",
    "    .loc[~df.duration.isna()]\n",
    "    .loc[df.coffee != 'mix']\n",
    "    ['coffee']\n",
    "    .value_counts()\n",
    ")"
   ]
  },
  {
   "cell_type": "code",
   "execution_count": null,
   "metadata": {
    "jupyter": {
     "source_hidden": true
    }
   },
   "outputs": [],
   "source": [
    "fig, (ax1, ax2, ax3) = plt.subplots(3, 1, figsize=(8, 15))\n",
    "\n",
    "    \n",
    "plt.subplots_adjust(left, bottom, right, top, wspace, hspace)\n",
    "\n",
    "(\n",
    "    df\n",
    "    .loc[~df.duration.isna()]\n",
    "    .loc[df.coffee != 'mix']\n",
    "    .pipe(lambda x: sns.boxplot(x='duration', y='coffee', orient='h', data=x, ax=ax1))\n",
    "    .set(\n",
    "        title='Variation of Brew Times Across Coffees',\n",
    "        xlabel='Total brew time (minutes)',\n",
    "        ylabel='Type of Coffee'\n",
    "    )\n",
    ");\n",
    "\n",
    "(\n",
    "    df\n",
    "    .loc[~df.duration.isna()]\n",
    "    .loc[df.coffee != 'mix']\n",
    "    .pipe(lambda x: sns.boxplot(x='gTime', y='coffee', orient='h', data=x, ax=ax2))\n",
    "    .set(\n",
    "        title='Amount of time it takes to grind',\n",
    "        xlabel='Grind time (seconds)',\n",
    "        ylabel='Type of Coffee'\n",
    "    )\n",
    ");\n",
    "\n",
    "(\n",
    "    df\n",
    "    .loc[~df.duration.isna()]\n",
    "    .loc[df.coffee != 'mix']\n",
    "    .pipe(lambda x: sns.boxplot(x='bTime', y='coffee', orient='h', data=x, ax=ax3))\n",
    "    .set(\n",
    "        title='Drawdown time',\n",
    "        xlabel='Drawdown (seconds)',\n",
    "        ylabel='Type of Coffee'\n",
    "    )\n",
    ");"
   ]
  },
  {
   "cell_type": "code",
   "execution_count": null,
   "metadata": {
    "jupyter": {
     "source_hidden": true
    }
   },
   "outputs": [],
   "source": [
    "fig, (ax1, ax2) = plt.subplots(1,2, figsize=(15,5))\n",
    "\n",
    "(\n",
    "    sns.scatterplot(x='date', y='cTime', data=df, ax=ax1)\n",
    "    .set(xticklabels=[], title='Count time over time')\n",
    ");\n",
    "\n",
    "(\n",
    "    sns.scatterplot(x='date', y='over', data=df, ax=ax2)\n",
    "    .set(xticklabels=[], title='Overages over time')\n",
    ");\n",
    "ax2.axhline(color='red');"
   ]
  },
  {
   "cell_type": "code",
   "execution_count": null,
   "metadata": {
    "jupyter": {
     "source_hidden": true
    }
   },
   "outputs": [],
   "source": [
    "%run ./helpers.ipynb\n",
    "\n",
    "(\n",
    "    df\n",
    "    .loc[~df.duration.isna()]\n",
    "    .loc[df.coffee != 'mix']\n",
    "    .pipe(lambda x: x.assign(uptime = computeUptime(x.cTime, x.gTime, x.bTime) / 60 ))\n",
    "    .pipe(lambda x: x.assign(unac = x.duration - x.uptime))\n",
    "    \n",
    "    .pipe(lambda x: sns.scatterplot(x='date', y='unac', data=x)\n",
    "         .set(title='Random time over time', xlabel='Time', ylabel='Unaccounted for', xticklabels=[]))\n",
    ");"
   ]
  }
 ],
 "metadata": {
  "kernelspec": {
   "display_name": "Python 3",
   "language": "python",
   "name": "python3"
  },
  "language_info": {
   "codemirror_mode": {
    "name": "ipython",
    "version": 3
   },
   "file_extension": ".py",
   "mimetype": "text/x-python",
   "name": "python",
   "nbconvert_exporter": "python",
   "pygments_lexer": "ipython3",
   "version": "3.8.5"
  }
 },
 "nbformat": 4,
 "nbformat_minor": 4
}
