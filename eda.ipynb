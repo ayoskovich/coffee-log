{
 "cells": [
  {
   "cell_type": "markdown",
   "metadata": {},
   "source": [
    "## Questions\n",
    "\n",
    "- Do the times vary by coffee?\n",
    "- Did I get faster at grinding?\n",
    "- Did I get better at eyeballing the pours?\n",
    "- Total time vs. unaccounted for time"
   ]
  },
  {
   "cell_type": "code",
   "execution_count": null,
   "metadata": {},
   "outputs": [],
   "source": [
    "import pandas as pd\n",
    "import numpy as np\n",
    "\n",
    "import seaborn as sns\n",
    "import matplotlib.pyplot as plt\n",
    "import calplot\n",
    "\n",
    "%run ./helpers.ipynb\n",
    "\n",
    "df = (\n",
    "    pd.read_csv('data/coffee.csv')\n",
    "    .drop(labels=['Unnamed: 10', 'Unnamed: 11'], axis=1)\n",
    ")\n",
    "\n",
    "df.replace('na', np.NaN, inplace=True)\n",
    "\n",
    "df['date'] = df['date'].apply(pd.to_datetime)\n",
    "\n",
    "df['cTime'] = df['cTime'].apply(timeToSec)\n",
    "df['gTime'] = df['gTime'].apply(timeToSec)\n",
    "df['bTime'] = df['bTime'].apply(timeToSec)\n",
    "\n",
    "df['startTime'] = df['startTime'].apply(getTime)\n",
    "df['endTime'] = df['endTime'].apply(getTime)\n",
    "\n",
    "df['count'] = df['count'].apply(toFloat)\n",
    "df['over'] = df['over'].apply(toFloat)\n",
    "\n",
    "df['duration'] = tryTime((df.endTime - df.startTime).values)\n",
    "df['duration'] = df['duration'].dt.components.minutes"
   ]
  },
  {
   "cell_type": "code",
   "execution_count": null,
   "metadata": {},
   "outputs": [],
   "source": [
    "df.describe()"
   ]
  },
  {
   "cell_type": "code",
   "execution_count": null,
   "metadata": {},
   "outputs": [],
   "source": [
    "calplot.calplot(df['date'].value_counts());"
   ]
  },
  {
   "cell_type": "code",
   "execution_count": null,
   "metadata": {},
   "outputs": [],
   "source": [
    "df.head()"
   ]
  },
  {
   "cell_type": "code",
   "execution_count": null,
   "metadata": {},
   "outputs": [],
   "source": [
    "from matplotlib.ticker import MaxNLocator\n",
    "ax = plt.figure().gca()\n",
    "ax.xaxis.set_major_locator(MaxNLocator(integer=True))\n",
    "df['coffee'].value_counts().plot(kind='barh');\n",
    "ax.set(xlabel='Amount of Observations', title='Amounts of different coffees');\n",
    "save_fig(plt.gcf(), 'coffee_bar.png')"
   ]
  },
  {
   "cell_type": "code",
   "execution_count": null,
   "metadata": {},
   "outputs": [],
   "source": [
    "(\n",
    "    df\n",
    "    #.loc[~df.duration.isna()]\n",
    "    .loc[df.coffee != 'mix']\n",
    "    ['coffee']\n",
    "    .value_counts()\n",
    ")"
   ]
  },
  {
   "cell_type": "code",
   "execution_count": null,
   "metadata": {},
   "outputs": [],
   "source": [
    "# Coffees that have more than 10 observations\n",
    "overTen = (\n",
    "    df\n",
    "    .loc[df.coffee != 'mix']\n",
    "    ['coffee']\n",
    "    .value_counts()\n",
    "    .loc[lambda x: x > 10]\n",
    "    .index\n",
    ")"
   ]
  },
  {
   "cell_type": "code",
   "execution_count": null,
   "metadata": {},
   "outputs": [],
   "source": [
    "fig, ax = plt.subplots(1,1, figsize=(15,5))\n",
    "(\n",
    "    df\n",
    "    .loc[~df.duration.isna()]\n",
    "    .loc[df.coffee != 'mix']\n",
    "    .pipe(lambda x: sns.scatterplot(x='date', y='duration', data=x, ax=ax))\n",
    "    .set(\n",
    "        title='Total Time Spent Making Coffee Each Day', xlabel='Date', ylabel='Total Time (minutes)'\n",
    "    )\n",
    ");\n",
    "save_fig(fig, 'total.png')"
   ]
  },
  {
   "cell_type": "code",
   "execution_count": null,
   "metadata": {},
   "outputs": [],
   "source": [
    "fig, ax = plt.subplots(1,1, figsize=(15,5))\n",
    "plt.subplots_adjust(left, bottom, right, top, wspace, hspace)\n",
    "(\n",
    "    df\n",
    "    .loc[~df.duration.isna()]\n",
    "    .loc[df.coffee.isin(overTen)]\n",
    "    .pipe(lambda x: sns.boxplot(x='duration', y='coffee', orient='h', data=x, ax=ax))\n",
    "    .set(\n",
    "        title='Variation of Total Brew Times Across Coffees\\n(Groups < 10 observations omitted)',\n",
    "        xlabel='Total brew time (minutes)',\n",
    "        ylabel='Type of Coffee'\n",
    "    )\n",
    ");\n",
    "save_fig(fig, 'total_brew.png')"
   ]
  },
  {
   "cell_type": "code",
   "execution_count": null,
   "metadata": {},
   "outputs": [],
   "source": [
    "fig, ax = plt.subplots(1,1, figsize=(15,5))\n",
    "plt.subplots_adjust(left, bottom, right, top, wspace, hspace)\n",
    "(\n",
    "    df\n",
    "    .loc[df.coffee.isin(overTen)]\n",
    "    .pipe(lambda x: sns.boxplot(x='gTime', y='coffee', orient='h', data=x, ax=ax))\n",
    "    .set(\n",
    "        title='Amount of time it takes to grind\\n(Groups < 10 observations omitted)',\n",
    "        xlabel='Grind time (seconds)',\n",
    "        ylabel='Type of Coffee'\n",
    "    )\n",
    ");\n",
    "save_fig(fig, 'grind_time.png')"
   ]
  },
  {
   "cell_type": "code",
   "execution_count": null,
   "metadata": {},
   "outputs": [],
   "source": [
    "fig, ax = plt.subplots(1,1, figsize=(15,5))\n",
    "plt.subplots_adjust(left, bottom, right, top, wspace, hspace)\n",
    "(\n",
    "    df\n",
    "    .loc[df.coffee.isin(overTen)]\n",
    "    .pipe(lambda x: sns.boxplot(x='bTime', y='coffee', orient='h', data=x, ax=ax))\n",
    "    .set(\n",
    "        title='Drawdown time\\n(Groups < 10 observations omitted)',\n",
    "        xlabel='Drawdown (seconds)',\n",
    "        ylabel='Type of Coffee'\n",
    "    )\n",
    ");\n",
    "save_fig(fig, 'draw_down.png')"
   ]
  },
  {
   "cell_type": "code",
   "execution_count": null,
   "metadata": {},
   "outputs": [],
   "source": [
    "fig, ax = plt.subplots(1,1, figsize=(15,5))\n",
    "\n",
    "(\n",
    "    sns.scatterplot(x='date', y='cTime', data=df, ax=ax)\n",
    "    .set(xticklabels=[], title='Count time over time', xlabel='Time')\n",
    ");\n",
    "save_fig(fig, 'c_over_time.png')"
   ]
  },
  {
   "cell_type": "code",
   "execution_count": null,
   "metadata": {},
   "outputs": [],
   "source": [
    "fig, ax = plt.subplots(1,1, figsize=(15,5))\n",
    "(\n",
    "    sns.scatterplot(x='date', y='over', data=df, ax=ax)\n",
    "    .set(xticklabels=[], title='Overages over time', xlabel='Time', ylabel='Amount overpoured (number of beans)')\n",
    ")\n",
    "ax.axhline(color='red');\n",
    "save_fig(fig, 'overages.png')"
   ]
  },
  {
   "cell_type": "code",
   "execution_count": null,
   "metadata": {},
   "outputs": [],
   "source": [
    "fig, ax = plt.subplots(1,1, figsize=(15,5))\n",
    "plt.subplots_adjust(left, bottom, right, top, wspace, hspace)\n",
    "(\n",
    "    df\n",
    "    .loc[df.coffee.isin(overTen)]\n",
    "    .pipe(lambda x: sns.boxplot(x='over', y='coffee', orient='h', data=x, ax=ax))\n",
    "    .set(\n",
    "        title='Eyeballing\\n(Groups < 10 observations omitted)',\n",
    "        xlabel='Overage (# of beans)',\n",
    "        ylabel='Type of Coffee'\n",
    "    )\n",
    ");\n",
    "ax.axvline(color='red');\n",
    "save_fig(fig, 'overages_by_cof.png')"
   ]
  },
  {
   "cell_type": "code",
   "execution_count": null,
   "metadata": {},
   "outputs": [],
   "source": [
    "fig, ax = plt.subplots(1,1, figsize=(15,5))\n",
    "(\n",
    "    df\n",
    "    .loc[~df.duration.isna()]\n",
    "    .loc[df.coffee != 'mix']\n",
    "    .pipe(lambda x: x.assign(uptime = computeUptime(x.cTime, x.gTime, x.bTime) / 60 ))\n",
    "    .pipe(lambda x: x.assign(unac = x.duration - x.uptime))\n",
    "    \n",
    "    .pipe(lambda x: sns.scatterplot(x='date', y='unac', data=x, ax=ax)\n",
    "         .set(title='Random time over time', xlabel='Time', ylabel='Unaccounted for', xticklabels=[]))\n",
    ");"
   ]
  }
 ],
 "metadata": {
  "kernelspec": {
   "display_name": "Python 3",
   "language": "python",
   "name": "python3"
  },
  "language_info": {
   "codemirror_mode": {
    "name": "ipython",
    "version": 3
   },
   "file_extension": ".py",
   "mimetype": "text/x-python",
   "name": "python",
   "nbconvert_exporter": "python",
   "pygments_lexer": "ipython3",
   "version": "3.8.5"
  }
 },
 "nbformat": 4,
 "nbformat_minor": 4
}
