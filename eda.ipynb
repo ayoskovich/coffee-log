{
 "cells": [
  {
   "cell_type": "markdown",
   "metadata": {},
   "source": [
    "## Questions\n",
    "\n",
    "- Do the times vary by coffee?\n",
    "- Did I get faster at grinding?\n",
    "- Did I get better at eyeballing the pours?\n",
    "- Total time vs. unaccounted for time"
   ]
  },
  {
   "cell_type": "code",
   "execution_count": null,
   "metadata": {},
   "outputs": [],
   "source": [
    "import pandas as pd\n",
    "import numpy as np\n",
    "import matplotlib\n",
    "\n",
    "%run ./helpers.ipynb\n",
    "\n",
    "df = (\n",
    "    pd.read_csv('data/coffee.csv')\n",
    "    .drop(labels=['Unnamed: 10', 'Unnamed: 11'], axis=1)\n",
    ")\n",
    "\n",
    "df.replace('na', np.NaN, inplace=True)\n",
    "\n",
    "df['date'] = df['date'].apply(pd.to_datetime)\n",
    "\n",
    "df['cTime'] = df['cTime'].apply(timeToSec)\n",
    "df['gTime'] = df['gTime'].apply(timeToSec)\n",
    "df['bTime'] = df['bTime'].apply(timeToSec)\n",
    "\n",
    "df['startTime'] = df['startTime'].apply(getTime)\n",
    "df['endTime'] = df['endTime'].apply(getTime)\n",
    "\n",
    "df['count'] = df['count'].apply(toFloat)\n",
    "df['over'] = df['over'].apply(toFloat)\n",
    "\n",
    "df['duration'] = tryTime((df.endTime - df.startTime).values)\n",
    "df['duration'] = df['duration'].dt.components.minutes"
   ]
  },
  {
   "cell_type": "code",
   "execution_count": null,
   "metadata": {},
   "outputs": [],
   "source": [
    "df.plot.scatter(x='date', y='cTime');"
   ]
  },
  {
   "cell_type": "code",
   "execution_count": null,
   "metadata": {},
   "outputs": [],
   "source": [
    "df['coffee'].value_counts().plot(kind='barh');"
   ]
  },
  {
   "cell_type": "code",
   "execution_count": null,
   "metadata": {},
   "outputs": [],
   "source": [
    "df.plot.scatter(x='date', y='duration');"
   ]
  },
  {
   "cell_type": "code",
   "execution_count": null,
   "metadata": {},
   "outputs": [],
   "source": [
    "df['duration'].hist();"
   ]
  },
  {
   "cell_type": "code",
   "execution_count": null,
   "metadata": {},
   "outputs": [],
   "source": [
    "df['cTime'].hist();"
   ]
  },
  {
   "cell_type": "code",
   "execution_count": null,
   "metadata": {},
   "outputs": [],
   "source": [
    "df['gTime'].hist();"
   ]
  },
  {
   "cell_type": "code",
   "execution_count": null,
   "metadata": {},
   "outputs": [],
   "source": [
    "df['bTime'].hist();"
   ]
  },
  {
   "cell_type": "code",
   "execution_count": null,
   "metadata": {},
   "outputs": [],
   "source": [
    "df.dtypes"
   ]
  },
  {
   "cell_type": "code",
   "execution_count": null,
   "metadata": {},
   "outputs": [],
   "source": []
  }
 ],
 "metadata": {
  "kernelspec": {
   "display_name": "Python 3",
   "language": "python",
   "name": "python3"
  },
  "language_info": {
   "codemirror_mode": {
    "name": "ipython",
    "version": 3
   },
   "file_extension": ".py",
   "mimetype": "text/x-python",
   "name": "python",
   "nbconvert_exporter": "python",
   "pygments_lexer": "ipython3",
   "version": "3.8.5"
  }
 },
 "nbformat": 4,
 "nbformat_minor": 4
}
