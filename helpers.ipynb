{
 "cells": [
  {
   "cell_type": "code",
   "execution_count": null,
   "metadata": {},
   "outputs": [],
   "source": [
    "left = 0.125  # the left side of the subplots of the figure\n",
    "right = 0.9   # the right side of the subplots of the figure\n",
    "bottom = 0.1  # the bottom of the subplots of the figure\n",
    "top = 0.9     # the top of the subplots of the figure\n",
    "wspace = 0.5  # the amount of width reserved for space between subplots,\n",
    "              # expressed as a fraction of the average axis width\n",
    "hspace = 0.5  # the amount of height reserved for space between subplots,\n",
    "              # expressed as a fraction of the average axis height\n",
    "\n",
    "def timeToSec(time):\n",
    "    \"\"\"Returns number of seconds in time. \"\"\"\n",
    "    try:\n",
    "        mins, secs = time.split(':')\n",
    "    except ValueError:\n",
    "        return np.nan\n",
    "    \n",
    "    return int(mins)*60 + int(secs)\n",
    "\n",
    "\n",
    "def getTime(time):\n",
    "    \"\"\"Get the time. \"\"\"\n",
    "    return pd.to_datetime(time, errors='coerce')\n",
    "\n",
    "\n",
    "def getTime2(time):\n",
    "    try:\n",
    "        return pd.Timestamp(time).time()\n",
    "    except:\n",
    "        return pd.Timestamp(np.datetime64('NaT'))\n",
    "    \n",
    "    \n",
    "def toFloat(x):\n",
    "    \"\"\" Nicely convert to float. \"\"\"\n",
    "    try:\n",
    "        return np.float(x)\n",
    "    except:\n",
    "        return np.nan\n",
    "    \n",
    "    \n",
    "def tryTime(x):\n",
    "    \"\"\" Convert a timediff\"\"\"\n",
    "    try:\n",
    "        return x.astype('timedelta64[m]')\n",
    "    except:\n",
    "        return np.datetime64('NaT')\n",
    "    \n",
    "\n",
    "def computeUptime(c, g, b):\n",
    "    \"\"\"Compute uptime for brewing. \"\"\"\n",
    "    return c + g + b"
   ]
  }
 ],
 "metadata": {
  "kernelspec": {
   "display_name": "Python 3",
   "language": "python",
   "name": "python3"
  },
  "language_info": {
   "codemirror_mode": {
    "name": "ipython",
    "version": 3
   },
   "file_extension": ".py",
   "mimetype": "text/x-python",
   "name": "python",
   "nbconvert_exporter": "python",
   "pygments_lexer": "ipython3",
   "version": "3.8.5"
  }
 },
 "nbformat": 4,
 "nbformat_minor": 4
}
